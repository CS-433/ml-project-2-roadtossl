{
 "cells": [
  {
   "cell_type": "markdown",
   "metadata": {},
   "source": [
    "# Installation and setup"
   ]
  },
  {
   "cell_type": "code",
   "execution_count": 1,
   "metadata": {},
   "outputs": [],
   "source": [
    "import numpy as np\n",
    "import matplotlib.pyplot as plt\n",
    "import tensorflow as tf"
   ]
  },
  {
   "cell_type": "code",
   "execution_count": 2,
   "metadata": {},
   "outputs": [],
   "source": [
    "def plot_graphs(history, metric):\n",
    "  \"\"\"\n",
    "    Plot graphs of the model's history\n",
    "\n",
    "    Parameters:\n",
    "        history:\n",
    "            The history of the model\n",
    "        metric:\n",
    "            The metric to plot\n",
    "  \"\"\"\n",
    "  plt.plot(history.history[metric])\n",
    "  plt.plot(history.history['val_'+metric], '')\n",
    "  plt.xlabel(\"Epochs\")\n",
    "  plt.ylabel(metric)\n",
    "  plt.legend([metric, 'val_'+metric])"
   ]
  },
  {
   "cell_type": "markdown",
   "metadata": {},
   "source": [
    "# Load data"
   ]
  },
  {
   "cell_type": "code",
   "execution_count": 105,
   "metadata": {},
   "outputs": [],
   "source": [
    "import subprocess\n",
    "\n",
    "DATASET_PATH = '../../../data/twitter-datasets/'\n",
    "NEG_SAMPLES_PATH = DATASET_PATH + 'train_neg.txt'\n",
    "POS_SAMPLES_PATH = DATASET_PATH + 'train_pos.txt'\n",
    "FULL_NEG_SAMPLES_PATH = DATASET_PATH + 'train_neg_full.txt'\n",
    "FULL_POS_SAMPLES_PATH = DATASET_PATH + 'train_pos_full.txt'\n",
    "\n",
    "TRAIN_SPLIT = 0.8\n",
    "\n",
    "def count_lines(filepath):\n",
    "    with open(filepath, 'r') as f:\n",
    "        return sum(1 for _ in f)\n",
    "\n",
    "def load_data(full=False):\n",
    "    neg_samples_path = FULL_NEG_SAMPLES_PATH if full else NEG_SAMPLES_PATH\n",
    "    pos_samples_path = FULL_POS_SAMPLES_PATH if full else POS_SAMPLES_PATH\n",
    "\n",
    "    # Count lines using wc -l\n",
    "    neg_size = count_lines(neg_samples_path)\n",
    "    pos_size = count_lines(pos_samples_path)\n",
    "\n",
    "    # Load the samples and map them to a tuple with the label\n",
    "    neg_samples = tf.data.TextLineDataset(neg_samples_path).map(lambda x: (x, 0))\n",
    "    pos_samples = tf.data.TextLineDataset(pos_samples_path).map(lambda x: (x, 1))\n",
    "\n",
    "    # Shuffle the samples\n",
    "    neg_samples = neg_samples.shuffle(buffer_size=neg_size, reshuffle_each_iteration=False)\n",
    "    pos_samples = pos_samples.shuffle(buffer_size=pos_size, reshuffle_each_iteration=False)\n",
    "\n",
    "    # Split the samples into training and test sets\n",
    "    neg_train_size = int(TRAIN_SPLIT * neg_size)\n",
    "    pos_train_size = int(TRAIN_SPLIT * pos_size)\n",
    "\n",
    "    neg_train = neg_samples.take(neg_train_size)\n",
    "    neg_test = neg_samples.skip(neg_train_size)\n",
    "\n",
    "    pos_train = pos_samples.take(pos_train_size)\n",
    "    pos_test = pos_samples.skip(pos_train_size)\n",
    "\n",
    "    # Concatenate the training and test sets\n",
    "    train_data = tf.data.Dataset.concatenate(neg_train, pos_train)\n",
    "    test_data = tf.data.Dataset.concatenate(neg_test, pos_test)\n",
    "\n",
    "    train_data_size = neg_train_size + pos_train_size\n",
    "    test_data_size = neg_size + pos_size - train_data_size\n",
    "\n",
    "    # Shuffle the training and test sets\n",
    "    train_data = train_data.shuffle(buffer_size=train_data_size, reshuffle_each_iteration=False).batch(16)\n",
    "    test_data = test_data.shuffle(buffer_size=test_data_size, reshuffle_each_iteration=False).batch(16)\n",
    "\n",
    "    print(f'Loaded {train_data_size} training samples and {test_data_size} test samples')\n",
    "\n",
    "    return train_data, test_data, train_data_size, test_data_size"
   ]
  },
  {
   "cell_type": "code",
   "execution_count": 106,
   "metadata": {},
   "outputs": [
    {
     "name": "stdout",
     "output_type": "stream",
     "text": [
      "Loaded 160000 training samples and 40000 test samples\n"
     ]
    }
   ],
   "source": [
    "train_data, test_data, train_data_size, test_data_size = load_data(full=False)"
   ]
  },
  {
   "cell_type": "markdown",
   "metadata": {},
   "source": [
    "# Create the text encoder"
   ]
  },
  {
   "cell_type": "code",
   "execution_count": 43,
   "metadata": {},
   "outputs": [
    {
     "name": "stdout",
     "output_type": "stream",
     "text": [
      "Vocabulary size: 15000\n"
     ]
    },
    {
     "name": "stderr",
     "output_type": "stream",
     "text": [
      "2024-12-04 16:47:47.978139: W tensorflow/core/framework/local_rendezvous.cc:404] Local rendezvous is aborting with status: OUT_OF_RANGE: End of sequence\n"
     ]
    }
   ],
   "source": [
    "VOCAB_SIZE = 15000\n",
    "\n",
    "encoder = tf.keras.layers.TextVectorization(max_tokens=VOCAB_SIZE)\n",
    "encoder.adapt(train_data.map(lambda text, label: text))\n",
    "\n",
    "print(f\"Vocabulary size: {len(encoder.get_vocabulary())}\")\n",
    "\n",
    "# Save the vocabulary to a file\n",
    "vocab = encoder.get_vocabulary()\n",
    "np.save('../../../data/vocab/RNN_vocab.npy', vocab)"
   ]
  },
  {
   "cell_type": "code",
   "execution_count": 34,
   "metadata": {},
   "outputs": [
    {
     "name": "stdout",
     "output_type": "stream",
     "text": [
      "Vocabulary size: 15000\n"
     ]
    }
   ],
   "source": [
    "# Load the vocabulary from file\n",
    "vocab = np.load('../../../data/vocab/RNN_vocab.npy', allow_pickle=True)\n",
    "\n",
    "# Recreate the encoder and set its vocabulary\n",
    "encoder = tf.keras.layers.TextVectorization(max_tokens=VOCAB_SIZE)\n",
    "encoder.set_vocabulary(vocab)\n",
    "\n",
    "print(f\"Vocabulary size: {len(encoder.get_vocabulary())}\")"
   ]
  },
  {
   "cell_type": "markdown",
   "metadata": {},
   "source": [
    "# Build the model\n",
    "\n",
    "Above is a diagram of the model.\n",
    "\n",
    "1. This model can be build as a tf.keras.Sequential.\n",
    "\n",
    "2. The first layer is the encoder, which converts the text to a sequence of token indices.\n",
    "\n",
    "3. After the encoder is an embedding layer. \n",
    "   An embedding layer stores one vector per word. \n",
    "   When called, it converts the sequences of word indices to sequences of vectors. \n",
    "   These vectors are trainable. \n",
    "   After training (on enough data), words with similar meanings often have similar vectors.\n",
    "\n",
    "4. This index-lookup is much more efficient than the equivalent operation of passing a one-hot \n",
    "   encoded vector through a tf.keras.layers.Dense layer.\n",
    "\n",
    "5. A recurrent neural network (RNN) processes sequence input by iterating through the elements. \n",
    "   RNNs pass the outputs from one timestep to their input on the next timestep.\n",
    "   The tf.keras.layers.Bidirectional wrapper can also be used with an RNN layer. \n",
    "   This propagates the input forward and backwards through the RNN layer and then concatenates \n",
    "   the final output.\n",
    "\n",
    "   The main advantage of a bidirectional RNN is that the signal from the beginning of the input \n",
    "   doesn't need to be processed all the way through every timestep to affect the output.\n",
    "\n",
    "   The main disadvantage of a bidirectional RNN is that you can't efficiently stream predictions\n",
    "   as words are being added to the end.\n",
    "\n",
    "6. After the RNN has converted the sequence to a single vector the two layers.\n",
    "   Dense do some final processing, and convert from this vector representation to a single logit\n",
    "   as the classification output."
   ]
  },
  {
   "cell_type": "code",
   "execution_count": 59,
   "metadata": {},
   "outputs": [],
   "source": [
    "# Hyperparameters\n",
    "WORD_EMBEDDING_DIM = 128\n",
    "BATCH_SIZE = 64\n",
    "EPOCHS = 10"
   ]
  },
  {
   "cell_type": "code",
   "execution_count": 60,
   "metadata": {},
   "outputs": [
    {
     "name": "stdout",
     "output_type": "stream",
     "text": [
      "15000\n"
     ]
    }
   ],
   "source": [
    "# Model creation\n",
    "print(len(encoder.get_vocabulary()))\n",
    "\n",
    "model = tf.keras.Sequential([\n",
    "    encoder,\n",
    "    tf.keras.layers.Embedding(input_dim=len(encoder.get_vocabulary()), output_dim=WORD_EMBEDDING_DIM, mask_zero=True), \n",
    "    tf.keras.layers.Dropout(0.5),\n",
    "    tf.keras.layers.Bidirectional(tf.keras.layers.LSTM(WORD_EMBEDDING_DIM)),\n",
    "    tf.keras.layers.Dense(WORD_EMBEDDING_DIM, activation='relu'), \n",
    "    tf.keras.layers.Dropout(0.5),\n",
    "    tf.keras.layers.Dense(1)])\n",
    "\n",
    "# Model compilation\n",
    "model.compile(\n",
    "    loss=tf.keras.losses.BinaryCrossentropy(from_logits=True), \n",
    "    optimizer=tf.keras.optimizers.Adam(1e-4), \n",
    "    metrics=['accuracy'],\n",
    ")"
   ]
  },
  {
   "cell_type": "markdown",
   "metadata": {},
   "source": [
    "# Train the model"
   ]
  },
  {
   "cell_type": "code",
   "execution_count": 61,
   "metadata": {},
   "outputs": [
    {
     "name": "stdout",
     "output_type": "stream",
     "text": [
      "Epoch 1/10\n",
      "\u001b[1m2500/2500\u001b[0m \u001b[32m━━━━━━━━━━━━━━━━━━━━\u001b[0m\u001b[37m\u001b[0m \u001b[1m85s\u001b[0m 32ms/step - accuracy: 0.6168 - loss: 0.5931 - val_accuracy: 0.7692 - val_loss: 0.4479\n",
      "Epoch 2/10\n",
      "\u001b[1m2500/2500\u001b[0m \u001b[32m━━━━━━━━━━━━━━━━━━━━\u001b[0m\u001b[37m\u001b[0m \u001b[1m79s\u001b[0m 32ms/step - accuracy: 0.7708 - loss: 0.4502 - val_accuracy: 0.7766 - val_loss: 0.4226\n",
      "Epoch 3/10\n",
      "\u001b[1m2500/2500\u001b[0m \u001b[32m━━━━━━━━━━━━━━━━━━━━\u001b[0m\u001b[37m\u001b[0m \u001b[1m85s\u001b[0m 34ms/step - accuracy: 0.7901 - loss: 0.4194 - val_accuracy: 0.7959 - val_loss: 0.4020\n",
      "Epoch 4/10\n",
      "\u001b[1m2500/2500\u001b[0m \u001b[32m━━━━━━━━━━━━━━━━━━━━\u001b[0m\u001b[37m\u001b[0m \u001b[1m87s\u001b[0m 35ms/step - accuracy: 0.7931 - loss: 0.4120 - val_accuracy: 0.8018 - val_loss: 0.3958\n",
      "Epoch 5/10\n",
      "\u001b[1m2500/2500\u001b[0m \u001b[32m━━━━━━━━━━━━━━━━━━━━\u001b[0m\u001b[37m\u001b[0m \u001b[1m87s\u001b[0m 35ms/step - accuracy: 0.8029 - loss: 0.3969 - val_accuracy: 0.8115 - val_loss: 0.3840\n",
      "Epoch 6/10\n",
      "\u001b[1m2500/2500\u001b[0m \u001b[32m━━━━━━━━━━━━━━━━━━━━\u001b[0m\u001b[37m\u001b[0m \u001b[1m87s\u001b[0m 35ms/step - accuracy: 0.8100 - loss: 0.3862 - val_accuracy: 0.8042 - val_loss: 0.3942\n",
      "Epoch 7/10\n",
      "\u001b[1m2500/2500\u001b[0m \u001b[32m━━━━━━━━━━━━━━━━━━━━\u001b[0m\u001b[37m\u001b[0m \u001b[1m87s\u001b[0m 35ms/step - accuracy: 0.8188 - loss: 0.3768 - val_accuracy: 0.8070 - val_loss: 0.3855\n"
     ]
    }
   ],
   "source": [
    "TRAIN_STEPS_PER_EPOCH = train_data_size // BATCH_SIZE\n",
    "TEST_STEPS = test_data_size // BATCH_SIZE\n",
    "\n",
    "history = model.fit(\n",
    "    train_data.repeat(), \n",
    "    epochs=EPOCHS,\n",
    "    steps_per_epoch = TRAIN_STEPS_PER_EPOCH,\n",
    "    validation_data=test_data.repeat(), \n",
    "    validation_steps=TEST_STEPS,\n",
    "    callbacks=[tf.keras.callbacks.EarlyStopping(monitor='val_loss', patience=2, restore_best_weights=True)]\n",
    ")"
   ]
  },
  {
   "cell_type": "markdown",
   "metadata": {},
   "source": [
    "# Evaluate the model"
   ]
  },
  {
   "cell_type": "code",
   "execution_count": 62,
   "metadata": {},
   "outputs": [
    {
     "name": "stdout",
     "output_type": "stream",
     "text": [
      "\u001b[1m625/625\u001b[0m \u001b[32m━━━━━━━━━━━━━━━━━━━━\u001b[0m\u001b[37m\u001b[0m \u001b[1m7s\u001b[0m 6ms/step - accuracy: 0.8142 - loss: 0.3856\n",
      "Test Loss: 0.3840053081512451\n",
      "Test Accuracy: 0.8115000128746033\n"
     ]
    }
   ],
   "source": [
    "test_loss, test_acc = model.evaluate(test_data, steps=TEST_STEPS)\n",
    "\n",
    "print('Test Loss:', test_loss)\n",
    "print('Test Accuracy:', test_acc)"
   ]
  },
  {
   "cell_type": "code",
   "execution_count": 64,
   "metadata": {},
   "outputs": [
    {
     "data": {
      "image/png": "[encoded data removed]",
      "text/plain": [
       "<Figure size 1600x800 with 2 Axes>"
      ]
     },
     "metadata": {},
     "output_type": "display_data"
    }
   ],
   "source": [
    "# Plot the results\n",
    "plt.figure(figsize=(16, 8))\n",
    "plt.subplot(1, 2, 1)\n",
    "plot_graphs(history, 'accuracy')\n",
    "plt.ylim(None, 1)\n",
    "plt.subplot(1, 2, 2)\n",
    "plot_graphs(history, 'loss')\n",
    "plt.ylim(0, None)\n",
    "plt.show()"
   ]
  },
  {
   "cell_type": "markdown",
   "metadata": {},
   "source": [
    "# Build predictions"
   ]
  },
  {
   "cell_type": "code",
   "execution_count": 102,
   "metadata": {},
   "outputs": [],
   "source": [
    "def predict(model, dataset):\n",
    "    \"\"\"\n",
    "    Predict the sentiment of text data from a dataset.\n",
    "\n",
    "    Args:\n",
    "        model (tf.keras.Model): Trained model with TextVectorization layer.\n",
    "        dataset (tf.data.Dataset): Dataset containing text samples.\n",
    "\n",
    "    Returns:\n",
    "        numpy.ndarray: Predicted probabilities for each input.\n",
    "    \"\"\"\n",
    "    texts = list(dataset.as_numpy_iterator())\n",
    "    input_batch = tf.constant(texts)\n",
    "\n",
    "    predictions = model.predict(input_batch)\n",
    "    binary_predictions = tf.nn.sigmoid(predictions)\n",
    "\n",
    "    return binary_predictions\n",
    "\n",
    "TEST_SAMPLES_PATH = DATASET_PATH + 'test_data.txt'\n",
    "\n",
    "def load_submission_data():\n",
    "    test_samples = tf.data.TextLineDataset(TEST_SAMPLES_PATH)\n",
    "    return test_samples\n"
   ]
  },
  {
   "cell_type": "code",
   "execution_count": 104,
   "metadata": {},
   "outputs": [
    {
     "name": "stdout",
     "output_type": "stream",
     "text": [
      "\u001b[1m 17/313\u001b[0m \u001b[32m━\u001b[0m\u001b[37m━━━━━━━━━━━━━━━━━━━\u001b[0m \u001b[1m3s\u001b[0m 10ms/step"
     ]
    },
    {
     "name": "stderr",
     "output_type": "stream",
     "text": [
      "2024-12-04 18:51:19.761932: W tensorflow/core/framework/local_rendezvous.cc:404] Local rendezvous is aborting with status: OUT_OF_RANGE: End of sequence\n"
     ]
    },
    {
     "name": "stdout",
     "output_type": "stream",
     "text": [
      "\u001b[1m313/313\u001b[0m \u001b[32m━━━━━━━━━━━━━━━━━━━━\u001b[0m\u001b[37m\u001b[0m \u001b[1m3s\u001b[0m 8ms/step\n",
      "(10000, 1)\n",
      "0.9953508\n",
      "1.2928862e-07\n"
     ]
    }
   ],
   "source": [
    "# Load the submission data\n",
    "submision_data = load_submission_data()\n",
    "\n",
    "# Predict the sentiment of the submission data\n",
    "predictions = predict(model, submision_data)\n",
    "\n",
    "print(predictions.shape)\n",
    "print(np.max(predictions))\n",
    "print(np.min(predictions))"
   ]
  },
  {
   "cell_type": "code",
   "execution_count": null,
   "metadata": {},
   "outputs": [],
   "source": []
  }
 ],
 "metadata": {
  "kernelspec": {
   "display_name": "base",
   "language": "python",
   "name": "python3"
  },
  "language_info": {
   "codemirror_mode": {
    "name": "ipython",
    "version": 3
   },
   "file_extension": ".py",
   "mimetype": "text/x-python",
   "name": "python",
   "nbconvert_exporter": "python",
   "pygments_lexer": "ipython3",
   "version": "3.9.6"
  }
 },
 "nbformat": 4,
 "nbformat_minor": 2
}
