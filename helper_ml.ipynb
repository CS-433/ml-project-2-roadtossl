{
 "cells": [
  {
   "cell_type": "markdown",
   "metadata": {},
   "source": [
    "# LSTM"
   ]
  },
  {
   "cell_type": "markdown",
   "metadata": {},
   "source": [
    "## Tokenise and Pad sequences (Optionel, deja fait)"
   ]
  },
  {
   "cell_type": "code",
   "execution_count": 2,
   "metadata": {},
   "outputs": [
    {
     "ename": "NameError",
     "evalue": "name 'df' is not defined",
     "output_type": "error",
     "traceback": [
      "\u001b[0;31m---------------------------------------------------------------------------\u001b[0m",
      "\u001b[0;31mNameError\u001b[0m                                 Traceback (most recent call last)",
      "Cell \u001b[0;32mIn[2], line 6\u001b[0m\n\u001b[1;32m      4\u001b[0m \u001b[38;5;66;03m# Initialize the tokenizer\u001b[39;00m\n\u001b[1;32m      5\u001b[0m tokenizer \u001b[38;5;241m=\u001b[39m Tokenizer(num_words\u001b[38;5;241m=\u001b[39m\u001b[38;5;241m20000\u001b[39m, oov_token\u001b[38;5;241m=\u001b[39m\u001b[38;5;124m'\u001b[39m\u001b[38;5;124m<OOV>\u001b[39m\u001b[38;5;124m'\u001b[39m)\n\u001b[0;32m----> 6\u001b[0m tokenizer\u001b[38;5;241m.\u001b[39mfit_on_texts(\u001b[43mdf\u001b[49m[\u001b[38;5;124m'\u001b[39m\u001b[38;5;124mclean_text\u001b[39m\u001b[38;5;124m'\u001b[39m])\n\u001b[1;32m      8\u001b[0m \u001b[38;5;66;03m# Convert texts to sequences\u001b[39;00m\n\u001b[1;32m      9\u001b[0m train_sequences \u001b[38;5;241m=\u001b[39m tokenizer\u001b[38;5;241m.\u001b[39mtexts_to_sequences(train_texts)\n",
      "\u001b[0;31mNameError\u001b[0m: name 'df' is not defined"
     ]
    }
   ],
   "source": [
    "from tensorflow.keras.preprocessing.text import Tokenizer\n",
    "from tensorflow.keras.preprocessing.sequence import pad_sequences\n",
    "\n",
    "# Initialize the tokenizer\n",
    "tokenizer = Tokenizer(num_words=20000, oov_token='<OOV>')\n",
    "tokenizer.fit_on_texts(df['clean_text'])\n",
    "\n",
    "# Convert texts to sequences\n",
    "train_sequences = tokenizer.texts_to_sequences(train_texts)\n",
    "val_sequences = tokenizer.texts_to_sequences(val_texts)\n",
    "\n",
    "# Pad sequences\n",
    "max_length = 100\n",
    "train_padded = pad_sequences(train_sequences, maxlen=max_length, padding='post')\n",
    "val_padded = pad_sequences(val_sequences, maxlen=max_length, padding='post')\n"
   ]
  },
  {
   "cell_type": "markdown",
   "metadata": {},
   "source": [
    "## Build the LSTM Model"
   ]
  },
  {
   "cell_type": "code",
   "execution_count": 1,
   "metadata": {},
   "outputs": [],
   "source": [
    "from tensorflow.keras.models import Sequential\n",
    "from tensorflow.keras.layers import Embedding, LSTM, Dense, Dropout\n",
    "\n",
    "max_length = 100\n",
    "\n",
    "model = Sequential([\n",
    "    Embedding(input_dim=20000, output_dim=128),\n",
    "    LSTM(128, dropout=0.2, recurrent_dropout=0.2),\n",
    "    Dense(1, activation='sigmoid')\n",
    "])\n"
   ]
  },
  {
   "cell_type": "markdown",
   "metadata": {},
   "source": [
    "#### Embedding Layer :\n",
    "- Purpose: Converts word indices into dense vectors (embeddings).\n",
    "- Parameters:\n",
    "    - output_dim = 128 : Dimension of the embedding vectors. Each word will be represented as a 128-dimensional vector.\n",
    "    - input_length = max_length : Length of input sequences. Required because the model needs to know the shape of its input.\n",
    "\n",
    "#### LSTM Layer :\n",
    "- Purpose: Processes the embedded sequences and captures temporal dependencies.\n",
    "- Parameters:\n",
    "    - 128 : Number of units (dimensionality of the output space). This is the number of LSTM cells in the layer.\n",
    "    - dropout = 0.2 : Fraction of the input units to drop (regular dropout) to prevent overfitting.\n",
    "    - recurrent_dropout = 0.2 : Fraction of the recurrent units to drop (dropout on the connections between the recurrent units).\n",
    "\n",
    "#### Dense output layer :\n",
    "- Purpose: Outputs a probability between 0 and 1, indicating the sentiment.\n",
    "- Parameters:\n",
    "    - 1 : Single neuron because it's a binary classification problem.\n",
    "    - activation = 'sigmoid': Activation function that outputs values between 0 and 1."
   ]
  },
  {
   "cell_type": "markdown",
   "metadata": {},
   "source": [
    "## Compile the model"
   ]
  },
  {
   "cell_type": "code",
   "execution_count": 2,
   "metadata": {},
   "outputs": [],
   "source": [
    "model.compile(loss='binary_crossentropy', optimizer='adam', metrics=['accuracy'])"
   ]
  },
  {
   "cell_type": "markdown",
   "metadata": {},
   "source": [
    "- loss = 'binary_crossentropy': Loss function suitable for binary classification tasks.\n",
    "- optimizer = 'adam': Adam optimizer is an efficient stochastic gradient descent method.\n",
    "- metrics = ['accuracy']: Specifies the metric to evaluate during training and testing."
   ]
  },
  {
   "cell_type": "markdown",
   "metadata": {},
   "source": [
    "## Train the model"
   ]
  },
  {
   "cell_type": "code",
   "execution_count": 3,
   "metadata": {},
   "outputs": [
    {
     "name": "stdout",
     "output_type": "stream",
     "text": [
      "Epoch 1/5\n",
      "\u001b[1m5625/5625\u001b[0m \u001b[32m━━━━━━━━━━━━━━━━━━━━\u001b[0m\u001b[37m\u001b[0m \u001b[1m123s\u001b[0m 22ms/step - accuracy: 0.5007 - loss: 0.6934 - val_accuracy: 0.5002 - val_loss: 0.6932\n",
      "Epoch 2/5\n",
      "\u001b[1m5625/5625\u001b[0m \u001b[32m━━━━━━━━━━━━━━━━━━━━\u001b[0m\u001b[37m\u001b[0m \u001b[1m133s\u001b[0m 24ms/step - accuracy: 0.4976 - loss: 0.6932 - val_accuracy: 0.5002 - val_loss: 0.6928\n",
      "Epoch 3/5\n",
      "\u001b[1m5625/5625\u001b[0m \u001b[32m━━━━━━━━━━━━━━━━━━━━\u001b[0m\u001b[37m\u001b[0m \u001b[1m95s\u001b[0m 17ms/step - accuracy: 0.5006 - loss: 0.6930 - val_accuracy: 0.5009 - val_loss: 0.6934\n",
      "Epoch 4/5\n",
      "\u001b[1m5625/5625\u001b[0m \u001b[32m━━━━━━━━━━━━━━━━━━━━\u001b[0m\u001b[37m\u001b[0m \u001b[1m134s\u001b[0m 24ms/step - accuracy: 0.4988 - loss: 0.6929 - val_accuracy: 0.5001 - val_loss: 0.6931\n",
      "Epoch 5/5\n",
      "\u001b[1m5625/5625\u001b[0m \u001b[32m━━━━━━━━━━━━━━━━━━━━\u001b[0m\u001b[37m\u001b[0m \u001b[1m134s\u001b[0m 24ms/step - accuracy: 0.5005 - loss: 0.6928 - val_accuracy: 0.5009 - val_loss: 0.6929\n"
     ]
    },
    {
     "data": {
      "text/plain": [
       "<keras.src.callbacks.history.History at 0x302b1d9a0>"
      ]
     },
     "execution_count": 3,
     "metadata": {},
     "output_type": "execute_result"
    }
   ],
   "source": [
    "import numpy as np\n",
    "from sklearn.model_selection import train_test_split\n",
    "\n",
    "# Assuming train_neg_padded and train_pos_padded are already defined\n",
    "filename_pos = 'data/twitter-datasets/train_pos_embedding.txt'\n",
    "filename_neg = 'data/twitter-datasets/train_neg_embedding.txt'\n",
    "\n",
    "# Function to load embeddings\n",
    "def load_embeddings(filename):\n",
    "    embeddings = []\n",
    "    with open(filename, 'r') as f:\n",
    "        for line in f:\n",
    "            line = line.strip()\n",
    "            if line:\n",
    "                str_values = line.split()\n",
    "                float_values = [float(val) for val in str_values]\n",
    "                embedding = np.array(float_values)\n",
    "                embeddings.append(embedding)\n",
    "    return embeddings\n",
    "\n",
    "pos_embeddings = load_embeddings(filename_pos)\n",
    "neg_embeddings = load_embeddings(filename_neg)\n",
    "\n",
    "train_neg_padded = np.array(neg_embeddings)\n",
    "train_pos_padded = np.array(pos_embeddings)\n",
    "\n",
    "# Create labels\n",
    "neg_labels = np.zeros(train_neg_padded.shape[0], dtype=int)\n",
    "pos_labels = np.ones(train_pos_padded.shape[0], dtype=int)\n",
    "\n",
    "# Combine data and labels\n",
    "train_padded = np.concatenate((train_neg_padded, train_pos_padded), axis=0)\n",
    "train_labels = np.concatenate((neg_labels, pos_labels), axis=0)\n",
    "\n",
    "# Shuffle data\n",
    "indices = np.arange(train_padded.shape[0])\n",
    "np.random.shuffle(indices)\n",
    "train_padded = train_padded[indices]\n",
    "train_labels = train_labels[indices]\n",
    "\n",
    "# Split into training and validation sets\n",
    "X_train, X_val, y_train, y_val = train_test_split(\n",
    "    train_padded, train_labels, test_size=0.1, random_state=42)\n",
    "\n",
    "# Train the model\n",
    "model.fit(X_train, y_train, epochs=5, batch_size=32,\n",
    "          validation_data=(X_val, y_val))\n"
   ]
  },
  {
   "cell_type": "markdown",
   "metadata": {},
   "source": [
    "- train_padded : Input data (padded sequences) for training.\n",
    "- train_labels : Corresponding labels (0 or 1) for training data.\n",
    "- epochs=5 : Number of times the model will cycle through the entire training dataset.\n",
    "- batch_size = 32  Number of samples per gradient update. Smaller batch sizes can lead to more stable gradient estimates but increase computation time.\n",
    "- validation_data=(val_padded, val_labels): Data on which to evaluate the model at the end of each epoch."
   ]
  },
  {
   "cell_type": "markdown",
   "metadata": {},
   "source": [
    "# Feedforward Neural Network"
   ]
  },
  {
   "cell_type": "code",
   "execution_count": 4,
   "metadata": {},
   "outputs": [],
   "source": [
    "import numpy as np\n",
    "from sklearn.model_selection import train_test_split\n",
    "\n",
    "# Assuming train_neg_padded and train_pos_padded are already defined\n",
    "filename_pos = 'data/twitter-datasets/train_pos_embedding.txt'\n",
    "filename_neg = 'data/twitter-datasets/train_neg_embedding.txt'\n",
    "\n",
    "# Function to load embeddings\n",
    "def load_embeddings(filename):\n",
    "    embeddings = []\n",
    "    with open(filename, 'r') as f:\n",
    "        for line in f:\n",
    "            line = line.strip()\n",
    "            if line:\n",
    "                str_values = line.split()\n",
    "                float_values = [float(val) for val in str_values]\n",
    "                embedding = np.array(float_values)\n",
    "                embeddings.append(embedding)\n",
    "    return embeddings\n",
    "\n",
    "pos_embeddings = load_embeddings(filename_pos)\n",
    "neg_embeddings = load_embeddings(filename_neg)\n",
    "\n",
    "train_neg_padded = np.array(neg_embeddings)\n",
    "train_pos_padded = np.array(pos_embeddings)\n",
    "\n",
    "# Create labels\n",
    "neg_labels = np.zeros(train_neg_padded.shape[0], dtype=int)\n",
    "pos_labels = np.ones(train_pos_padded.shape[0], dtype=int)\n",
    "\n",
    "# Combine data and labels\n",
    "train_padded = np.concatenate((train_neg_padded, train_pos_padded), axis=0)\n",
    "train_labels = np.concatenate((neg_labels, pos_labels), axis=0)\n",
    "\n",
    "# Shuffle data\n",
    "indices = np.arange(train_padded.shape[0])\n",
    "np.random.shuffle(indices)\n",
    "train_padded = train_padded[indices]\n",
    "train_labels = train_labels[indices]\n",
    "\n",
    "# Split into training and validation sets\n",
    "X_train, X_val, y_train, y_val = train_test_split(\n",
    "    train_padded, train_labels, test_size=0.1, random_state=42)"
   ]
  },
  {
   "cell_type": "code",
   "execution_count": 5,
   "metadata": {},
   "outputs": [
    {
     "name": "stdout",
     "output_type": "stream",
     "text": [
      "Epoch 1/10\n"
     ]
    },
    {
     "name": "stderr",
     "output_type": "stream",
     "text": [
      "/Users/noeboulud/opt/miniconda3/lib/python3.9/site-packages/keras/src/layers/core/dense.py:87: UserWarning: Do not pass an `input_shape`/`input_dim` argument to a layer. When using Sequential models, prefer using an `Input(shape)` object as the first layer in the model instead.\n",
      "  super().__init__(activity_regularizer=activity_regularizer, **kwargs)\n"
     ]
    },
    {
     "name": "stdout",
     "output_type": "stream",
     "text": [
      "\u001b[1m5625/5625\u001b[0m \u001b[32m━━━━━━━━━━━━━━━━━━━━\u001b[0m\u001b[37m\u001b[0m \u001b[1m3s\u001b[0m 495us/step - accuracy: 0.5752 - loss: 0.6755 - val_accuracy: 0.5991 - val_loss: 0.6574\n",
      "Epoch 2/10\n",
      "\u001b[1m5625/5625\u001b[0m \u001b[32m━━━━━━━━━━━━━━━━━━━━\u001b[0m\u001b[37m\u001b[0m \u001b[1m3s\u001b[0m 467us/step - accuracy: 0.6008 - loss: 0.6586 - val_accuracy: 0.6040 - val_loss: 0.6534\n",
      "Epoch 3/10\n",
      "\u001b[1m5625/5625\u001b[0m \u001b[32m━━━━━━━━━━━━━━━━━━━━\u001b[0m\u001b[37m\u001b[0m \u001b[1m3s\u001b[0m 458us/step - accuracy: 0.6027 - loss: 0.6550 - val_accuracy: 0.6090 - val_loss: 0.6505\n",
      "Epoch 4/10\n",
      "\u001b[1m5625/5625\u001b[0m \u001b[32m━━━━━━━━━━━━━━━━━━━━\u001b[0m\u001b[37m\u001b[0m \u001b[1m3s\u001b[0m 478us/step - accuracy: 0.6066 - loss: 0.6512 - val_accuracy: 0.6101 - val_loss: 0.6489\n",
      "Epoch 5/10\n",
      "\u001b[1m5625/5625\u001b[0m \u001b[32m━━━━━━━━━━━━━━━━━━━━\u001b[0m\u001b[37m\u001b[0m \u001b[1m3s\u001b[0m 460us/step - accuracy: 0.6062 - loss: 0.6497 - val_accuracy: 0.6091 - val_loss: 0.6485\n",
      "Epoch 6/10\n",
      "\u001b[1m5625/5625\u001b[0m \u001b[32m━━━━━━━━━━━━━━━━━━━━\u001b[0m\u001b[37m\u001b[0m \u001b[1m3s\u001b[0m 463us/step - accuracy: 0.6088 - loss: 0.6476 - val_accuracy: 0.6129 - val_loss: 0.6441\n",
      "Epoch 7/10\n",
      "\u001b[1m5625/5625\u001b[0m \u001b[32m━━━━━━━━━━━━━━━━━━━━\u001b[0m\u001b[37m\u001b[0m \u001b[1m3s\u001b[0m 459us/step - accuracy: 0.6088 - loss: 0.6465 - val_accuracy: 0.6077 - val_loss: 0.6460\n",
      "Epoch 8/10\n",
      "\u001b[1m5625/5625\u001b[0m \u001b[32m━━━━━━━━━━━━━━━━━━━━\u001b[0m\u001b[37m\u001b[0m \u001b[1m3s\u001b[0m 467us/step - accuracy: 0.6087 - loss: 0.6450 - val_accuracy: 0.6155 - val_loss: 0.6415\n",
      "Epoch 9/10\n",
      "\u001b[1m5625/5625\u001b[0m \u001b[32m━━━━━━━━━━━━━━━━━━━━\u001b[0m\u001b[37m\u001b[0m \u001b[1m3s\u001b[0m 482us/step - accuracy: 0.6133 - loss: 0.6419 - val_accuracy: 0.6163 - val_loss: 0.6407\n",
      "Epoch 10/10\n",
      "\u001b[1m5625/5625\u001b[0m \u001b[32m━━━━━━━━━━━━━━━━━━━━\u001b[0m\u001b[37m\u001b[0m \u001b[1m3s\u001b[0m 462us/step - accuracy: 0.6122 - loss: 0.6424 - val_accuracy: 0.6161 - val_loss: 0.6401\n"
     ]
    },
    {
     "data": {
      "text/plain": [
       "<keras.src.callbacks.history.History at 0x30b5c27f0>"
      ]
     },
     "execution_count": 5,
     "metadata": {},
     "output_type": "execute_result"
    }
   ],
   "source": [
    "from tensorflow.keras.models import Sequential\n",
    "from tensorflow.keras.layers import Dense, Dropout\n",
    "\n",
    "# Define the model architecture\n",
    "model = Sequential([\n",
    "    Dense(128, activation='relu', input_shape=(train_padded.shape[1],)),\n",
    "    Dropout(0.2),\n",
    "    Dense(64, activation='relu'),\n",
    "    Dropout(0.2),\n",
    "    Dense(1, activation='sigmoid')\n",
    "])\n",
    "\n",
    "# Compile the model\n",
    "model.compile(optimizer='adam', loss='binary_crossentropy', metrics=['accuracy'])\n",
    "\n",
    "# Train the model\n",
    "model.fit(X_train, y_train, epochs=10, batch_size=32,\n",
    "          validation_data=(X_val, y_val))\n"
   ]
  },
  {
   "cell_type": "markdown",
   "metadata": {},
   "source": [
    "# Logistic Regression"
   ]
  },
  {
   "cell_type": "code",
   "execution_count": 5,
   "metadata": {},
   "outputs": [
    {
     "name": "stdout",
     "output_type": "stream",
     "text": [
      "Validation Accuracy: 0.5706\n",
      "              precision    recall  f1-score   support\n",
      "\n",
      "           0       0.58      0.51      0.55     10004\n",
      "           1       0.56      0.63      0.59      9996\n",
      "\n",
      "    accuracy                           0.57     20000\n",
      "   macro avg       0.57      0.57      0.57     20000\n",
      "weighted avg       0.57      0.57      0.57     20000\n",
      "\n"
     ]
    }
   ],
   "source": [
    "from sklearn.linear_model import LogisticRegression\n",
    "from sklearn.metrics import accuracy_score, classification_report\n",
    "\n",
    "# Initialize the model\n",
    "log_reg = LogisticRegression(max_iter=1000)\n",
    "\n",
    "# Train the model\n",
    "log_reg.fit(X_train, y_train)\n",
    "\n",
    "# Evaluate the model\n",
    "y_pred = log_reg.predict(X_val)\n",
    "print(f'Validation Accuracy: {accuracy_score(y_val, y_pred):.4f}')\n",
    "print(classification_report(y_val, y_pred))\n"
   ]
  },
  {
   "cell_type": "markdown",
   "metadata": {},
   "source": [
    "# Support Vector Machine"
   ]
  },
  {
   "cell_type": "code",
   "execution_count": null,
   "metadata": {},
   "outputs": [],
   "source": [
    "from sklearn.svm import SVC\n",
    "\n",
    "# Initialize the model\n",
    "svm_model = SVC(kernel='linear', probability=True)\n",
    "\n",
    "# Train the model\n",
    "svm_model.fit(X_train, y_train)\n",
    "\n",
    "# Evaluate the model\n",
    "y_pred = svm_model.predict(X_val)\n",
    "print(f'Validation Accuracy: {accuracy_score(y_val, y_pred):.4f}')\n",
    "print(classification_report(y_val, y_pred))\n"
   ]
  },
  {
   "cell_type": "markdown",
   "metadata": {},
   "source": [
    "# Gradient Boosting\n"
   ]
  },
  {
   "cell_type": "code",
   "execution_count": 1,
   "metadata": {},
   "outputs": [
    {
     "ename": "ModuleNotFoundError",
     "evalue": "No module named 'xgboost'",
     "output_type": "error",
     "traceback": [
      "\u001b[0;31m---------------------------------------------------------------------------\u001b[0m",
      "\u001b[0;31mModuleNotFoundError\u001b[0m                       Traceback (most recent call last)",
      "Cell \u001b[0;32mIn[1], line 1\u001b[0m\n\u001b[0;32m----> 1\u001b[0m \u001b[38;5;28;01mimport\u001b[39;00m \u001b[38;5;21;01mxgboost\u001b[39;00m \u001b[38;5;28;01mas\u001b[39;00m \u001b[38;5;21;01mxgb\u001b[39;00m\n\u001b[1;32m      3\u001b[0m \u001b[38;5;66;03m# Initialize the model\u001b[39;00m\n\u001b[1;32m      4\u001b[0m xgb_model \u001b[38;5;241m=\u001b[39m xgb\u001b[38;5;241m.\u001b[39mXGBClassifier(use_label_encoder\u001b[38;5;241m=\u001b[39m\u001b[38;5;28;01mFalse\u001b[39;00m, eval_metric\u001b[38;5;241m=\u001b[39m\u001b[38;5;124m'\u001b[39m\u001b[38;5;124mlogloss\u001b[39m\u001b[38;5;124m'\u001b[39m)\n",
      "\u001b[0;31mModuleNotFoundError\u001b[0m: No module named 'xgboost'"
     ]
    }
   ],
   "source": [
    "import xgboost as xgb\n",
    "\n",
    "# Initialize the model\n",
    "xgb_model = xgb.XGBClassifier(use_label_encoder=False, eval_metric='logloss')\n",
    "\n",
    "# Train the model\n",
    "xgb_model.fit(X_train, y_train)\n",
    "\n",
    "# Evaluate the model\n",
    "y_pred = xgb_model.predict(X_val)\n",
    "print(f'Validation Accuracy: {accuracy_score(y_val, y_pred):.4f}')\n",
    "print(classification_report(y_val, y_pred))\n"
   ]
  },
  {
   "cell_type": "markdown",
   "metadata": {},
   "source": [
    "# LSTM 2"
   ]
  },
  {
   "cell_type": "code",
   "execution_count": 2,
   "metadata": {},
   "outputs": [
    {
     "name": "stdout",
     "output_type": "stream",
     "text": [
      "Epoch 1/5\n"
     ]
    },
    {
     "name": "stderr",
     "output_type": "stream",
     "text": [
      "/Users/noeboulud/opt/miniconda3/lib/python3.9/site-packages/keras/src/layers/core/embedding.py:90: UserWarning: Argument `input_length` is deprecated. Just remove it.\n",
      "  warnings.warn(\n"
     ]
    },
    {
     "name": "stdout",
     "output_type": "stream",
     "text": [
      "\u001b[1m5625/5625\u001b[0m \u001b[32m━━━━━━━━━━━━━━━━━━━━\u001b[0m\u001b[37m\u001b[0m \u001b[1m105s\u001b[0m 19ms/step - accuracy: 0.6215 - loss: 0.6223 - val_accuracy: 0.6445 - val_loss: 0.5851\n",
      "Epoch 2/5\n",
      "\u001b[1m5625/5625\u001b[0m \u001b[32m━━━━━━━━━━━━━━━━━━━━\u001b[0m\u001b[37m\u001b[0m \u001b[1m104s\u001b[0m 19ms/step - accuracy: 0.6371 - loss: 0.5985 - val_accuracy: 0.6446 - val_loss: 0.5842\n",
      "Epoch 3/5\n",
      "\u001b[1m5625/5625\u001b[0m \u001b[32m━━━━━━━━━━━━━━━━━━━━\u001b[0m\u001b[37m\u001b[0m \u001b[1m103s\u001b[0m 18ms/step - accuracy: 0.6459 - loss: 0.5897 - val_accuracy: 0.6486 - val_loss: 0.5801\n",
      "Epoch 4/5\n",
      "\u001b[1m5625/5625\u001b[0m \u001b[32m━━━━━━━━━━━━━━━━━━━━\u001b[0m\u001b[37m\u001b[0m \u001b[1m104s\u001b[0m 19ms/step - accuracy: 0.6441 - loss: 0.5859 - val_accuracy: 0.6467 - val_loss: 0.5754\n",
      "Epoch 5/5\n",
      "\u001b[1m5625/5625\u001b[0m \u001b[32m━━━━━━━━━━━━━━━━━━━━\u001b[0m\u001b[37m\u001b[0m \u001b[1m103s\u001b[0m 18ms/step - accuracy: 0.6431 - loss: 0.5832 - val_accuracy: 0.6569 - val_loss: 0.5711\n",
      "\u001b[1m625/625\u001b[0m \u001b[32m━━━━━━━━━━━━━━━━━━━━\u001b[0m\u001b[37m\u001b[0m \u001b[1m4s\u001b[0m 7ms/step - accuracy: 0.6597 - loss: 0.5707\n",
      "Validation Loss: 0.5711\n",
      "Validation Accuracy: 0.6569\n",
      "\u001b[1m313/313\u001b[0m \u001b[32m━━━━━━━━━━━━━━━━━━━━\u001b[0m\u001b[37m\u001b[0m \u001b[1m2s\u001b[0m 7ms/step\n"
     ]
    }
   ],
   "source": [
    "import numpy as np\n",
    "import pandas as pd\n",
    "from tensorflow.keras.preprocessing.text import Tokenizer\n",
    "from tensorflow.keras.preprocessing.sequence import pad_sequences\n",
    "from tensorflow.keras.models import Sequential\n",
    "from tensorflow.keras.layers import Embedding, LSTM, Dense\n",
    "\n",
    "# 1. Load your vocabulary and embeddings\n",
    "vocab = np.load('data/vocab.pkl', allow_pickle=True)\n",
    "embeddings = np.load('data/embeddings.npy')\n",
    "\n",
    "# 2. Load tweets and labels\n",
    "with open('./data/twitter-datasets/train_pos.txt', 'r', encoding='utf-8') as f:\n",
    "    pos_tweets = [line.strip() for line in f]\n",
    "\n",
    "with open('./data/twitter-datasets/train_neg.txt', 'r', encoding='utf-8') as f:\n",
    "    neg_tweets = [line.strip() for line in f]\n",
    "\n",
    "tweets = pos_tweets + neg_tweets\n",
    "labels = [1]*len(pos_tweets) + [0]*len(neg_tweets)\n",
    "\n",
    "# 3. Tokenize tweets\n",
    "tokenizer = Tokenizer(oov_token='<OOV>')\n",
    "tokenizer.fit_on_texts(tweets)\n",
    "sequences = tokenizer.texts_to_sequences(tweets)\n",
    "word_index = tokenizer.word_index\n",
    "vocab_size = len(word_index) + 1\n",
    "\n",
    "# 4. Create embedding matrix\n",
    "embedding_dim = embeddings.shape[1]\n",
    "embedding_matrix = np.zeros((vocab_size, embedding_dim))\n",
    "\n",
    "for word, i in word_index.items():\n",
    "    vocab_index = vocab.get(word)\n",
    "    if vocab_index is not None:\n",
    "        embedding_vector = embeddings[vocab_index]\n",
    "        embedding_matrix[i] = embedding_vector\n",
    "    else:\n",
    "        # Handle out-of-vocabulary words (optional)\n",
    "        embedding_matrix[i] = np.random.normal(scale=0.6, size=(embedding_dim,))\n",
    "\n",
    "# 5. Pad sequences\n",
    "max_length = 50  # Adjust based on your data\n",
    "padded_sequences = pad_sequences(sequences, maxlen=max_length, padding='post', truncating='post')\n",
    "labels = np.array(labels)\n",
    "\n",
    "# 6. Split data\n",
    "from sklearn.model_selection import train_test_split\n",
    "\n",
    "X_train, X_val, y_train, y_val = train_test_split(padded_sequences, labels, test_size=0.1, random_state=42)\n",
    "\n",
    "# 7. Build the model\n",
    "model = Sequential([\n",
    "    Embedding(input_dim=vocab_size,\n",
    "              output_dim=embedding_dim,\n",
    "              weights=[embedding_matrix],\n",
    "              input_length=max_length,\n",
    "              trainable=False),\n",
    "    LSTM(128, dropout=0.2, recurrent_dropout=0.2),\n",
    "    Dense(1, activation='sigmoid')\n",
    "])\n",
    "\n",
    "# 8. Compile the model\n",
    "model.compile(optimizer='adam', loss='binary_crossentropy', metrics=['accuracy'])\n",
    "\n",
    "# 9. Train the model\n",
    "model.fit(X_train, y_train, epochs=5, batch_size=32, validation_data=(X_val, y_val))\n",
    "\n",
    "# 10. Evaluate the model\n",
    "loss, accuracy = model.evaluate(X_val, y_val)\n",
    "print(f'Validation Loss: {loss:.4f}')\n",
    "print(f'Validation Accuracy: {accuracy:.4f}')\n",
    "\n",
    "# 11. Predict on test data\n",
    "with open('./data/twitter-datasets/test_data.txt', 'r', encoding='utf-8') as f:\n",
    "    test_tweets = [line.strip() for line in f]\n",
    "\n",
    "test_sequences = tokenizer.texts_to_sequences(test_tweets)\n",
    "test_padded = pad_sequences(test_sequences, maxlen=max_length, padding='post', truncating='post')\n",
    "\n",
    "predictions = model.predict(test_padded)\n",
    "predicted_labels = (predictions > 0.5).astype(int).flatten()\n",
    "\n",
    "# Prepare submission\n",
    "test_ids = [i for i in range(1, len(test_tweets) + 1)]  # Adjust based on your test data IDs\n",
    "submission = pd.DataFrame({\n",
    "    'Id': test_ids,\n",
    "    'Prediction': predicted_labels\n",
    "})\n",
    "submission.to_csv('submission.csv', index=False)\n"
   ]
  }
 ],
 "metadata": {
  "kernelspec": {
   "display_name": "base",
   "language": "python",
   "name": "python3"
  },
  "language_info": {
   "codemirror_mode": {
    "name": "ipython",
    "version": 3
   },
   "file_extension": ".py",
   "mimetype": "text/x-python",
   "name": "python",
   "nbconvert_exporter": "python",
   "pygments_lexer": "ipython3",
   "version": "3.9.12"
  }
 },
 "nbformat": 4,
 "nbformat_minor": 2
}
