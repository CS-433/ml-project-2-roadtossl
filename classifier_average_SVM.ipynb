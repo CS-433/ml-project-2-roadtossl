{
 "cells": [
  {
   "cell_type": "code",
   "execution_count": 3,
   "metadata": {},
   "outputs": [],
   "source": [
    "from sklearn.svm import SVC\n",
    "from sklearn.model_selection import train_test_split\n",
    "from sklearn.metrics import classification_report, accuracy_score\n",
    "import numpy as np\n",
    "import pickle"
   ]
  },
  {
   "cell_type": "markdown",
   "metadata": {},
   "source": [
    "# Load Data"
   ]
  },
  {
   "cell_type": "code",
   "execution_count": 4,
   "metadata": {},
   "outputs": [],
   "source": [
    "def load_vectors(pos_file, neg_file):\n",
    "    \"\"\"\n",
    "    Load positive and negative vectors, combine and shuffle them.\n",
    "    \n",
    "    Parameters:\n",
    "    pos_file: str\n",
    "        Path to file containing positive vectors.\n",
    "    neg_file: str\n",
    "        Path to file containing negative vectors.\n",
    "    \n",
    "    Returns:\n",
    "    X: np.array\n",
    "        Combined and shuffled vectors.\n",
    "    y: np.array\n",
    "        Labels for the vectors.\n",
    "    \"\"\"\n",
    "    # Read files\n",
    "    pos_vectors = np.loadtxt(pos_file)\n",
    "    neg_vectors = np.loadtxt(neg_file)\n",
    "    \n",
    "    # Create labels\n",
    "    pos_labels = np.ones(len(pos_vectors))\n",
    "    print(pos_labels)\n",
    "    neg_labels = -np.ones(len(neg_vectors))\n",
    "    print(neg_labels)\n",
    "    \n",
    "    # Combine data\n",
    "    X = np.vstack((pos_vectors, neg_vectors))\n",
    "    y = np.concatenate((pos_labels, neg_labels))\n",
    "    \n",
    "    # Shuffle\n",
    "    indices = np.arange(len(X))\n",
    "    np.random.shuffle(indices)\n",
    "    \n",
    "    return X[indices], y[indices]"
   ]
  },
  {
   "cell_type": "code",
   "execution_count": 5,
   "metadata": {},
   "outputs": [
    {
     "name": "stdout",
     "output_type": "stream",
     "text": [
      "[1. 1. 1. ... 1. 1. 1.]\n",
      "[-1. -1. -1. ... -1. -1. -1.]\n"
     ]
    }
   ],
   "source": [
    "X, y = load_vectors(\"data/twitter-datasets/train_pos_full_embedding.txt\", \"data/twitter-datasets/train_neg_full_embedding.txt\")"
   ]
  },
  {
   "cell_type": "code",
   "execution_count": 6,
   "metadata": {},
   "outputs": [
    {
     "name": "stdout",
     "output_type": "stream",
     "text": [
      "(2500000, 20) (2500000,)\n",
      "[ 1.35861969  0.61186035  0.28082677 -0.55846596 -0.0632965  -0.46061267\n",
      "  0.14617156  0.5887694  -0.19048877 -0.50327772  1.15450673  0.5642846\n",
      "  0.07483755 -0.19869685  0.51805835  0.30517758 -0.3693509   0.54081395\n",
      " -0.08717991 -0.40615111] 1.0\n"
     ]
    }
   ],
   "source": [
    "print(X.shape, y.shape)\n",
    "print(X[0], y[0])"
   ]
  },
  {
   "cell_type": "code",
   "execution_count": 7,
   "metadata": {},
   "outputs": [],
   "source": [
    "def train_evaluate_svm(X, y, test_size=0.2, random_state=42):\n",
    "    \"\"\"\n",
    "    Train and evaluate SVM classifier with RBF kernel\n",
    "    \n",
    "    Args:\n",
    "        X: np.array\n",
    "            Array of tweet vectors\n",
    "        y: np.array\n",
    "            Labels (-1 for negative tweet / 1 for positive tweet)\n",
    "        test_size: float\n",
    "            Fraction of data to use for testing (default 80/20 split)\n",
    "        random_state: int\n",
    "            Random seed for reproducibility (default 42)\n",
    "    \n",
    "    Returns:\n",
    "        model: SVC\n",
    "            Trained SVM model\n",
    "        accuracy: float\n",
    "            Test set accuracy\n",
    "    \"\"\"\n",
    "    # Split data\n",
    "    X_train, X_test, y_train, y_test = train_test_split(\n",
    "        X, y, test_size=test_size, random_state=random_state\n",
    "    )\n",
    "    \n",
    "    # Initialize and train model\n",
    "    model = SVC(kernel='rbf', random_state=random_state, verbose=True)\n",
    "    model.fit(X_train, y_train)\n",
    "    \n",
    "    # Evaluate\n",
    "    y_pred = model.predict(X_test)\n",
    "    accuracy = accuracy_score(y_test, y_pred)\n",
    "    print(\"Classification Report:\")\n",
    "    print(classification_report(y_test, y_pred))\n",
    "    \n",
    "    return model, accuracy"
   ]
  },
  {
   "cell_type": "code",
   "execution_count": 8,
   "metadata": {},
   "outputs": [],
   "source": [
    "def predict_sentiment(model, tweet_vector):\n",
    "    \"\"\"\n",
    "    Predict sentiment for a single tweet vector using the model\n",
    "    \n",
    "    Args:\n",
    "        model: SVC\n",
    "            Trained SVM model\n",
    "        tweet_vector: np.array\n",
    "            Vector representation of tweet\n",
    "    \n",
    "    Returns:\n",
    "        prediction: int\n",
    "            Predicted class (0 or 1)\n",
    "    \"\"\"\n",
    "    # Reshape for single sample prediction\n",
    "    tweet_vector = tweet_vector.reshape(1, -1)\n",
    "    return model.predict(tweet_vector)[0]"
   ]
  },
  {
   "cell_type": "markdown",
   "metadata": {},
   "source": [
    "# Train Model"
   ]
  },
  {
   "cell_type": "code",
   "execution_count": 9,
   "metadata": {},
   "outputs": [
    {
     "name": "stdout",
     "output_type": "stream",
     "text": [
      "[LibSVM].........................................................................................................................................................................................................................................................................................................................................................................................................................................................................................................................................................................................................................................................................................."
     ]
    }
   ],
   "source": [
    "model, accuracy = train_evaluate_svm(X, y)"
   ]
  },
  {
   "cell_type": "markdown",
   "metadata": {},
   "source": [
    "# Test Model"
   ]
  },
  {
   "cell_type": "code",
   "execution_count": null,
   "metadata": {},
   "outputs": [],
   "source": []
  }
 ],
 "metadata": {
  "kernelspec": {
   "display_name": "Python 3",
   "language": "python",
   "name": "python3"
  },
  "language_info": {
   "codemirror_mode": {
    "name": "ipython",
    "version": 3
   },
   "file_extension": ".py",
   "mimetype": "text/x-python",
   "name": "python",
   "nbconvert_exporter": "python",
   "pygments_lexer": "ipython3",
   "version": "3.9.6"
  }
 },
 "nbformat": 4,
 "nbformat_minor": 2
}
